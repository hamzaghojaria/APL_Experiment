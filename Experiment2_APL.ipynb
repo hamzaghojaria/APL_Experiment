{
 "cells": [
  {
   "cell_type": "markdown",
   "metadata": {},
   "source": [
    "# Derived Data Types - Experiment 2- 1st Semester- Feb 2021 \n",
    "\n",
    "Aim : Write a menu-driven text application to maintain bank accounts of customers using\n",
    "Lists, Dictionary, Strings and Sets. This application handles error and exception using try\n",
    "block. The application allows following operations as python functions:"
   ]
  },
  {
   "cell_type": "markdown",
   "metadata": {},
   "source": [
    "i) Adding and\n",
    "delete accounts of customers,"
   ]
  },
  {
   "cell_type": "code",
   "execution_count": 1,
   "metadata": {},
   "outputs": [
    {
     "name": "stdout",
     "output_type": "stream",
     "text": [
      "Enter Customer Name You Want To Add :hamza\n",
      "The customer list is:  ['alice', 'bob', 'hamza']\n"
     ]
    }
   ],
   "source": [
    "customers_list = ['alice','bob'] \n",
    "\n",
    "def add_customer():\n",
    "    customer_name= input('Enter Customer Name You Want To Add :').lower()\n",
    "    customers_list.append(customer_name) \n",
    "    print('The customer list is: ',customers_list)\n",
    "add_customer()\n"
   ]
  },
  {
   "cell_type": "code",
   "execution_count": 3,
   "metadata": {},
   "outputs": [
    {
     "name": "stdout",
     "output_type": "stream",
     "text": [
      "Enter Customer Name You Want To Remove: dsfdfsd\n",
      "Customer Name not present in the list.Please try another name\n"
     ]
    }
   ],
   "source": [
    "def del_customer():\n",
    "    customer_name= input('Enter Customer Name You Want To Remove: ').lower()\n",
    "    try: \n",
    "        customers_list.remove(customer_name) \n",
    "        print(\"After removing the customer name the current list is: \",customers_list)\n",
    "    except:\n",
    "          print(\"Customer Name not present in the list.Please try another name\")\n",
    "\n",
    "    \n",
    "del_customer()\n"
   ]
  },
  {
   "cell_type": "markdown",
   "metadata": {},
   "source": [
    "ii) Deposit money to/from accounts,"
   ]
  },
  {
   "cell_type": "code",
   "execution_count": 5,
   "metadata": {},
   "outputs": [
    {
     "name": "stdout",
     "output_type": "stream",
     "text": [
      "enter customer name you want to check balance: djfhdj\n",
      "This name customer not present\n",
      "Thankyou for banking with us :)\n"
     ]
    }
   ],
   "source": [
    "# Deposit\n",
    "customer_list_balance = {'alice': 3000, 'bob': 4000, 'hamza': 5000}\n",
    "try:\n",
    "    customer_name = input('enter customer name you want to check balance: ').lower()\n",
    "    customer_list_balance[customer_name]\n",
    "\n",
    "except KeyError as error:\n",
    "    print(\"This name customer not present\")\n",
    "    exit()\n",
    "else:\n",
    "    selected_acc_bal = str(customer_list_balance.get(customer_name))\n",
    "    print(\"The current balance in \" + customer_name + \"'s account is: \" + selected_acc_bal)\n",
    "    amount_deposit = int(input('Enter the amount you want to deposit in ' + customer_name + \"'s account \"))\n",
    "    customer_list_balance[customer_name] += amount_deposit\n",
    "    print(customer_list_balance)\n",
    "\n",
    "finally:\n",
    "    print(\"Thankyou for banking with us :)\")\n"
   ]
  },
  {
   "cell_type": "markdown",
   "metadata": {},
   "source": [
    "ii) withdraw money to/from accounts,"
   ]
  },
  {
   "cell_type": "code",
   "execution_count": 3,
   "metadata": {},
   "outputs": [
    {
     "name": "stdout",
     "output_type": "stream",
     "text": [
      "enter customer name you want to check balance: hjdgs\n",
      "This name customer not present\n",
      "Thankyou for banking with us :)\n"
     ]
    }
   ],
   "source": [
    "# Withdrawal\n",
    "customer_list_balance = {'alice': 3000, 'bob': 4000, 'hamza': 5000}\n",
    "try:\n",
    "    customer_name = input('enter customer name you want to check balance: ').lower()\n",
    "    customer_list_balance[customer_name]\n",
    "\n",
    "except KeyError as error:\n",
    "    print(\"This name customer not present\")\n",
    "\n",
    "else:\n",
    "    selected_acc_bal = str(customer_list_balance.get(customer_name))\n",
    "    print(\"The current balance in \" + customer_name + \"'s account is: \" + selected_acc_bal)\n",
    "    amount_deposit = int(input('Enter the amount you want to withdraw from ' + customer_name + \"'s account \"))\n",
    "    if customer_list_balance[customer_name] > amount_deposit:\n",
    "        customer_list_balance[customer_name] -= amount_deposit\n",
    "        print(customer_list_balance)\n",
    "    else:\n",
    "        print(\"You have insufficient balance\")\n",
    "\n",
    "\n",
    "finally:\n",
    "    print(\"Thankyou for banking with us :)\")"
   ]
  },
  {
   "cell_type": "markdown",
   "metadata": {},
   "source": [
    "iii) list last 3 transactions on a particular accounts"
   ]
  },
  {
   "cell_type": "code",
   "execution_count": 6,
   "metadata": {
    "scrolled": true
   },
   "outputs": [
    {
     "name": "stdout",
     "output_type": "stream",
     "text": [
      "enter customer name you want to check last 3 transaction: jsdhkjsdh\n",
      "This name customer not present\n",
      "Thankyou for banking with us :)\n"
     ]
    }
   ],
   "source": [
    "data = {'hamza': [1100, 1200,2000,4000], 'alice': [4500, 6000]}\n",
    "try:\n",
    "    cust_name=input('enter customer name you want to check last 3 transaction: ').lower()\n",
    "    my_list = data[cust_name]\n",
    "    print(my_list[-3:])\n",
    "except KeyError as error:\n",
    "    print(\"This name customer not present\")\n",
    "    exit()\n",
    "finally:\n",
    "    print(\"Thankyou for banking with us :)\")"
   ]
  },
  {
   "cell_type": "markdown",
   "metadata": {},
   "source": [
    "iv) exit from the application."
   ]
  },
  {
   "cell_type": "code",
   "execution_count": 3,
   "metadata": {},
   "outputs": [
    {
     "data": {
      "text/plain": [
       "<function sys.exit>"
      ]
     },
     "execution_count": 3,
     "metadata": {},
     "output_type": "execute_result"
    }
   ],
   "source": [
    "import sys\n",
    "sys.exit"
   ]
  }
 ],
 "metadata": {
  "kernelspec": {
   "display_name": "Python 3",
   "language": "python",
   "name": "python3"
  },
  "language_info": {
   "codemirror_mode": {
    "name": "ipython",
    "version": 3
   },
   "file_extension": ".py",
   "mimetype": "text/x-python",
   "name": "python",
   "nbconvert_exporter": "python",
   "pygments_lexer": "ipython3",
   "version": "3.7.10"
  }
 },
 "nbformat": 4,
 "nbformat_minor": 4
}
