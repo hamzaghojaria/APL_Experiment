{
 "cells": [
  {
   "cell_type": "markdown",
   "metadata": {},
   "source": [
    "# Functions and Generators- Experiment 3 -1st Semester - Feb 2021"
   ]
  },
  {
   "cell_type": "markdown",
   "metadata": {},
   "source": [
    "\n",
    "Aim- Write a Merge-Sort algorithm using the concept of Divide-and-Conquers to arrange\n",
    "the elements in ascending orders. Use all the operations of divide and conquers as\n",
    "functions."
   ]
  },
  {
   "cell_type": "code",
   "execution_count": 5,
   "metadata": {},
   "outputs": [],
   "source": [
    "# Python program for implementation of MergeSort\n",
    "def mergeSort(arr):\n",
    "    if len(arr) > 1:\n",
    "\n",
    "        mid = len(arr) // 2 # Finding the mid of the array\n",
    "        \n",
    "\n",
    "        L = arr[:mid] # Dividing the array elements\n",
    "        \n",
    "\n",
    "        R = arr[mid:] # into 2 halves\n",
    "        \n",
    "\n",
    "        mergeSort(L) # Sorting the first half\n",
    "        \n",
    "\n",
    "        mergeSort(R) # Sorting the second half\n",
    "       \n",
    "\n",
    "        i = j = k = 0\n",
    "\n",
    "       \n",
    "        while i < len(L) and j < len(R):  # Copy data to temp arrays L[] and R[]\n",
    "            if L[i] < R[j]:\n",
    "                arr[k] = L[i]\n",
    "                i += 1\n",
    "            else:\n",
    "                arr[k] = R[j]\n",
    "                j += 1\n",
    "            k += 1\n",
    "\n",
    "        \n",
    "        while i < len(L): # Checking if any element was left\n",
    "            arr[k] = L[i]\n",
    "            i += 1\n",
    "            k += 1\n",
    "\n",
    "        while j < len(R):\n",
    "            arr[k] = R[j]\n",
    "            j += 1\n",
    "            k += 1\n",
    "\n",
    "def printList(arr): # Code to print the list\n",
    "    for i in range(len(arr)):\n",
    "        print(arr[i], end=\" \")\n",
    "    print()\n",
    "\n",
    "\n",
    "if __name__ == '__main__': # Driver Code\n",
    "    arr = [12, 11, 13, 5, 6, 7, 8]\n",
    "    print(\"Given array is\", end=\"\\n\")\n",
    "    printList(arr)\n",
    "    mergeSort(arr)\n",
    "    print(\"Sorted array is: \", end=\"\\n\")\n",
    "    printList(arr)"
   ]
  },
  {
   "cell_type": "code",
   "execution_count": null,
   "metadata": {},
   "outputs": [],
   "source": []
  }
 ],
 "metadata": {
  "kernelspec": {
   "display_name": "Python 3",
   "language": "python",
   "name": "python3"
  },
  "language_info": {
   "codemirror_mode": {
    "name": "ipython",
    "version": 3
   },
   "file_extension": ".py",
   "mimetype": "text/x-python",
   "name": "python",
   "nbconvert_exporter": "python",
   "pygments_lexer": "ipython3",
   "version": "3.7.10"
  }
 },
 "nbformat": 4,
 "nbformat_minor": 4
}
