{
 "cells": [
  {
   "cell_type": "markdown",
   "metadata": {},
   "source": [
    "# Python Modules for Data Science - Experiment 6 - 1st Semester - April 2021"
   ]
  },
  {
   "cell_type": "markdown",
   "metadata": {},
   "source": [
    "Aim – Write a python program to create csv file/dataset using any five numpy.random distribution functions. Apply pandas series, dataframes and methods for processing any csv files/datasets and perform the given operations on the dataset using numpy. Further, plot the output of all the given operations using data visualization package."
   ]
  },
  {
   "cell_type": "code",
   "execution_count": 1,
   "metadata": {},
   "outputs": [
    {
     "data": {
      "text/html": [
       "<div>\n",
       "<style scoped>\n",
       "    .dataframe tbody tr th:only-of-type {\n",
       "        vertical-align: middle;\n",
       "    }\n",
       "\n",
       "    .dataframe tbody tr th {\n",
       "        vertical-align: top;\n",
       "    }\n",
       "\n",
       "    .dataframe thead th {\n",
       "        text-align: right;\n",
       "    }\n",
       "</style>\n",
       "<table border=\"1\" class=\"dataframe\">\n",
       "  <thead>\n",
       "    <tr style=\"text-align: right;\">\n",
       "      <th></th>\n",
       "      <th>hlpi_name</th>\n",
       "      <th>year</th>\n",
       "      <th>hlpi</th>\n",
       "      <th>nzhec</th>\n",
       "      <th>nzhec_name</th>\n",
       "      <th>nzhec_short</th>\n",
       "      <th>level</th>\n",
       "      <th>nzhec1</th>\n",
       "      <th>nzhec1_name</th>\n",
       "      <th>nzhec1_short</th>\n",
       "      <th>weight</th>\n",
       "      <th>exp_pw</th>\n",
       "      <th>eqv_exp_pw</th>\n",
       "    </tr>\n",
       "  </thead>\n",
       "  <tbody>\n",
       "    <tr>\n",
       "      <th>0</th>\n",
       "      <td>All households</td>\n",
       "      <td>2008</td>\n",
       "      <td>allhh</td>\n",
       "      <td>1.0</td>\n",
       "      <td>Food</td>\n",
       "      <td>Food</td>\n",
       "      <td>group</td>\n",
       "      <td>1</td>\n",
       "      <td>Food</td>\n",
       "      <td>Food</td>\n",
       "      <td>18.0</td>\n",
       "      <td>146.4</td>\n",
       "      <td>86.8</td>\n",
       "    </tr>\n",
       "    <tr>\n",
       "      <th>1</th>\n",
       "      <td>All households</td>\n",
       "      <td>2008</td>\n",
       "      <td>allhh</td>\n",
       "      <td>1.1</td>\n",
       "      <td>Fruit and vegetables</td>\n",
       "      <td>Fruit &amp; veg</td>\n",
       "      <td>subgroup</td>\n",
       "      <td>1</td>\n",
       "      <td>Food</td>\n",
       "      <td>Food</td>\n",
       "      <td>2.6</td>\n",
       "      <td>21.1</td>\n",
       "      <td>12.5</td>\n",
       "    </tr>\n",
       "    <tr>\n",
       "      <th>2</th>\n",
       "      <td>All households</td>\n",
       "      <td>2008</td>\n",
       "      <td>allhh</td>\n",
       "      <td>1.2</td>\n",
       "      <td>Meat, poultry and fish</td>\n",
       "      <td>Meat</td>\n",
       "      <td>subgroup</td>\n",
       "      <td>1</td>\n",
       "      <td>Food</td>\n",
       "      <td>Food</td>\n",
       "      <td>3.1</td>\n",
       "      <td>25.2</td>\n",
       "      <td>14.9</td>\n",
       "    </tr>\n",
       "    <tr>\n",
       "      <th>3</th>\n",
       "      <td>All households</td>\n",
       "      <td>2008</td>\n",
       "      <td>allhh</td>\n",
       "      <td>1.3</td>\n",
       "      <td>Grocery food</td>\n",
       "      <td>Grocery food</td>\n",
       "      <td>subgroup</td>\n",
       "      <td>1</td>\n",
       "      <td>Food</td>\n",
       "      <td>Food</td>\n",
       "      <td>7.4</td>\n",
       "      <td>60.2</td>\n",
       "      <td>35.7</td>\n",
       "    </tr>\n",
       "    <tr>\n",
       "      <th>4</th>\n",
       "      <td>All households</td>\n",
       "      <td>2008</td>\n",
       "      <td>allhh</td>\n",
       "      <td>1.4</td>\n",
       "      <td>Non-alcoholic beverages</td>\n",
       "      <td>Soft drinks</td>\n",
       "      <td>subgroup</td>\n",
       "      <td>1</td>\n",
       "      <td>Food</td>\n",
       "      <td>Food</td>\n",
       "      <td>1.7</td>\n",
       "      <td>13.8</td>\n",
       "      <td>8.2</td>\n",
       "    </tr>\n",
       "    <tr>\n",
       "      <th>...</th>\n",
       "      <td>...</td>\n",
       "      <td>...</td>\n",
       "      <td>...</td>\n",
       "      <td>...</td>\n",
       "      <td>...</td>\n",
       "      <td>...</td>\n",
       "      <td>...</td>\n",
       "      <td>...</td>\n",
       "      <td>...</td>\n",
       "      <td>...</td>\n",
       "      <td>...</td>\n",
       "      <td>...</td>\n",
       "      <td>...</td>\n",
       "    </tr>\n",
       "    <tr>\n",
       "      <th>4741</th>\n",
       "      <td>Superannuitant</td>\n",
       "      <td>2020</td>\n",
       "      <td>super</td>\n",
       "      <td>11.4</td>\n",
       "      <td>Insurance</td>\n",
       "      <td>Insurance</td>\n",
       "      <td>subgroup</td>\n",
       "      <td>11</td>\n",
       "      <td>Miscellaneous goods and services</td>\n",
       "      <td>Miscellaneous</td>\n",
       "      <td>8.6</td>\n",
       "      <td>53.9</td>\n",
       "      <td>42.1</td>\n",
       "    </tr>\n",
       "    <tr>\n",
       "      <th>4742</th>\n",
       "      <td>Superannuitant</td>\n",
       "      <td>2020</td>\n",
       "      <td>super</td>\n",
       "      <td>11.5</td>\n",
       "      <td>Credit services</td>\n",
       "      <td>Credit services</td>\n",
       "      <td>subgroup</td>\n",
       "      <td>11</td>\n",
       "      <td>Miscellaneous goods and services</td>\n",
       "      <td>Miscellaneous</td>\n",
       "      <td>0.2</td>\n",
       "      <td>1.1</td>\n",
       "      <td>0.8</td>\n",
       "    </tr>\n",
       "    <tr>\n",
       "      <th>4743</th>\n",
       "      <td>Superannuitant</td>\n",
       "      <td>2020</td>\n",
       "      <td>super</td>\n",
       "      <td>11.6</td>\n",
       "      <td>Other miscellaneous services</td>\n",
       "      <td>Miscellaneous services</td>\n",
       "      <td>subgroup</td>\n",
       "      <td>11</td>\n",
       "      <td>Miscellaneous goods and services</td>\n",
       "      <td>Miscellaneous</td>\n",
       "      <td>0.7</td>\n",
       "      <td>4.4</td>\n",
       "      <td>3.4</td>\n",
       "    </tr>\n",
       "    <tr>\n",
       "      <th>4744</th>\n",
       "      <td>Superannuitant</td>\n",
       "      <td>2020</td>\n",
       "      <td>super</td>\n",
       "      <td>13.0</td>\n",
       "      <td>Other expenditure</td>\n",
       "      <td>Interest</td>\n",
       "      <td>group</td>\n",
       "      <td>13</td>\n",
       "      <td>Other expenditure</td>\n",
       "      <td>Interest</td>\n",
       "      <td>1.3</td>\n",
       "      <td>8.4</td>\n",
       "      <td>6.5</td>\n",
       "    </tr>\n",
       "    <tr>\n",
       "      <th>4745</th>\n",
       "      <td>Superannuitant</td>\n",
       "      <td>2020</td>\n",
       "      <td>super</td>\n",
       "      <td>13.1</td>\n",
       "      <td>Interest payments</td>\n",
       "      <td>Interest</td>\n",
       "      <td>subgroup</td>\n",
       "      <td>13</td>\n",
       "      <td>Other expenditure</td>\n",
       "      <td>Interest</td>\n",
       "      <td>1.3</td>\n",
       "      <td>8.4</td>\n",
       "      <td>6.5</td>\n",
       "    </tr>\n",
       "  </tbody>\n",
       "</table>\n",
       "<p>4746 rows × 13 columns</p>\n",
       "</div>"
      ],
      "text/plain": [
       "           hlpi_name  year   hlpi  nzhec                    nzhec_name  \\\n",
       "0     All households  2008  allhh    1.0                          Food   \n",
       "1     All households  2008  allhh    1.1          Fruit and vegetables   \n",
       "2     All households  2008  allhh    1.2        Meat, poultry and fish   \n",
       "3     All households  2008  allhh    1.3                  Grocery food   \n",
       "4     All households  2008  allhh    1.4       Non-alcoholic beverages   \n",
       "...              ...   ...    ...    ...                           ...   \n",
       "4741  Superannuitant  2020  super   11.4                     Insurance   \n",
       "4742  Superannuitant  2020  super   11.5               Credit services   \n",
       "4743  Superannuitant  2020  super   11.6  Other miscellaneous services   \n",
       "4744  Superannuitant  2020  super   13.0             Other expenditure   \n",
       "4745  Superannuitant  2020  super   13.1             Interest payments   \n",
       "\n",
       "                 nzhec_short     level  nzhec1  \\\n",
       "0                       Food     group       1   \n",
       "1                Fruit & veg  subgroup       1   \n",
       "2                       Meat  subgroup       1   \n",
       "3               Grocery food  subgroup       1   \n",
       "4                Soft drinks  subgroup       1   \n",
       "...                      ...       ...     ...   \n",
       "4741               Insurance  subgroup      11   \n",
       "4742         Credit services  subgroup      11   \n",
       "4743  Miscellaneous services  subgroup      11   \n",
       "4744                Interest     group      13   \n",
       "4745                Interest  subgroup      13   \n",
       "\n",
       "                           nzhec1_name   nzhec1_short  weight  exp_pw  \\\n",
       "0                                 Food           Food    18.0   146.4   \n",
       "1                                 Food           Food     2.6    21.1   \n",
       "2                                 Food           Food     3.1    25.2   \n",
       "3                                 Food           Food     7.4    60.2   \n",
       "4                                 Food           Food     1.7    13.8   \n",
       "...                                ...            ...     ...     ...   \n",
       "4741  Miscellaneous goods and services  Miscellaneous     8.6    53.9   \n",
       "4742  Miscellaneous goods and services  Miscellaneous     0.2     1.1   \n",
       "4743  Miscellaneous goods and services  Miscellaneous     0.7     4.4   \n",
       "4744                 Other expenditure       Interest     1.3     8.4   \n",
       "4745                 Other expenditure       Interest     1.3     8.4   \n",
       "\n",
       "      eqv_exp_pw  \n",
       "0           86.8  \n",
       "1           12.5  \n",
       "2           14.9  \n",
       "3           35.7  \n",
       "4            8.2  \n",
       "...          ...  \n",
       "4741        42.1  \n",
       "4742         0.8  \n",
       "4743         3.4  \n",
       "4744         6.5  \n",
       "4745         6.5  \n",
       "\n",
       "[4746 rows x 13 columns]"
      ]
     },
     "execution_count": 1,
     "metadata": {},
     "output_type": "execute_result"
    }
   ],
   "source": [
    "import numpy as np\n",
    "import matplotlib.pyplot as plt\n",
    "import pandas as pd\n",
    "\n",
    "costprice=pd.read_csv('C:\\\\Users\\\\Hamza\\\\Downloads\\\\LivingCostsPrice.csv')\n",
    "costprice"
   ]
  },
  {
   "cell_type": "code",
   "execution_count": 2,
   "metadata": {},
   "outputs": [
    {
     "data": {
      "text/html": [
       "<div>\n",
       "<style scoped>\n",
       "    .dataframe tbody tr th:only-of-type {\n",
       "        vertical-align: middle;\n",
       "    }\n",
       "\n",
       "    .dataframe tbody tr th {\n",
       "        vertical-align: top;\n",
       "    }\n",
       "\n",
       "    .dataframe thead th {\n",
       "        text-align: right;\n",
       "    }\n",
       "</style>\n",
       "<table border=\"1\" class=\"dataframe\">\n",
       "  <thead>\n",
       "    <tr style=\"text-align: right;\">\n",
       "      <th></th>\n",
       "      <th>hlpi_name</th>\n",
       "      <th>year</th>\n",
       "      <th>hlpi</th>\n",
       "      <th>nzhec</th>\n",
       "      <th>nzhec_name</th>\n",
       "      <th>nzhec_short</th>\n",
       "      <th>level</th>\n",
       "      <th>nzhec1</th>\n",
       "      <th>nzhec1_name</th>\n",
       "      <th>nzhec1_short</th>\n",
       "      <th>weight</th>\n",
       "      <th>exp_pw</th>\n",
       "      <th>eqv_exp_pw</th>\n",
       "    </tr>\n",
       "  </thead>\n",
       "  <tbody>\n",
       "    <tr>\n",
       "      <th>0</th>\n",
       "      <td>All households</td>\n",
       "      <td>2008</td>\n",
       "      <td>allhh</td>\n",
       "      <td>1.0</td>\n",
       "      <td>Food</td>\n",
       "      <td>Food</td>\n",
       "      <td>group</td>\n",
       "      <td>1</td>\n",
       "      <td>Food</td>\n",
       "      <td>Food</td>\n",
       "      <td>18.0</td>\n",
       "      <td>146.4</td>\n",
       "      <td>86.8</td>\n",
       "    </tr>\n",
       "    <tr>\n",
       "      <th>1</th>\n",
       "      <td>All households</td>\n",
       "      <td>2008</td>\n",
       "      <td>allhh</td>\n",
       "      <td>1.1</td>\n",
       "      <td>Fruit and vegetables</td>\n",
       "      <td>Fruit &amp; veg</td>\n",
       "      <td>subgroup</td>\n",
       "      <td>1</td>\n",
       "      <td>Food</td>\n",
       "      <td>Food</td>\n",
       "      <td>2.6</td>\n",
       "      <td>21.1</td>\n",
       "      <td>12.5</td>\n",
       "    </tr>\n",
       "    <tr>\n",
       "      <th>2</th>\n",
       "      <td>All households</td>\n",
       "      <td>2008</td>\n",
       "      <td>allhh</td>\n",
       "      <td>1.2</td>\n",
       "      <td>Meat, poultry and fish</td>\n",
       "      <td>Meat</td>\n",
       "      <td>subgroup</td>\n",
       "      <td>1</td>\n",
       "      <td>Food</td>\n",
       "      <td>Food</td>\n",
       "      <td>3.1</td>\n",
       "      <td>25.2</td>\n",
       "      <td>14.9</td>\n",
       "    </tr>\n",
       "    <tr>\n",
       "      <th>3</th>\n",
       "      <td>All households</td>\n",
       "      <td>2008</td>\n",
       "      <td>allhh</td>\n",
       "      <td>1.3</td>\n",
       "      <td>Grocery food</td>\n",
       "      <td>Grocery food</td>\n",
       "      <td>subgroup</td>\n",
       "      <td>1</td>\n",
       "      <td>Food</td>\n",
       "      <td>Food</td>\n",
       "      <td>7.4</td>\n",
       "      <td>60.2</td>\n",
       "      <td>35.7</td>\n",
       "    </tr>\n",
       "    <tr>\n",
       "      <th>4</th>\n",
       "      <td>All households</td>\n",
       "      <td>2008</td>\n",
       "      <td>allhh</td>\n",
       "      <td>1.4</td>\n",
       "      <td>Non-alcoholic beverages</td>\n",
       "      <td>Soft drinks</td>\n",
       "      <td>subgroup</td>\n",
       "      <td>1</td>\n",
       "      <td>Food</td>\n",
       "      <td>Food</td>\n",
       "      <td>1.7</td>\n",
       "      <td>13.8</td>\n",
       "      <td>8.2</td>\n",
       "    </tr>\n",
       "  </tbody>\n",
       "</table>\n",
       "</div>"
      ],
      "text/plain": [
       "        hlpi_name  year   hlpi  nzhec               nzhec_name   nzhec_short  \\\n",
       "0  All households  2008  allhh    1.0                     Food          Food   \n",
       "1  All households  2008  allhh    1.1     Fruit and vegetables   Fruit & veg   \n",
       "2  All households  2008  allhh    1.2   Meat, poultry and fish          Meat   \n",
       "3  All households  2008  allhh    1.3             Grocery food  Grocery food   \n",
       "4  All households  2008  allhh    1.4  Non-alcoholic beverages   Soft drinks   \n",
       "\n",
       "      level  nzhec1 nzhec1_name nzhec1_short  weight  exp_pw  eqv_exp_pw  \n",
       "0     group       1        Food         Food    18.0   146.4        86.8  \n",
       "1  subgroup       1        Food         Food     2.6    21.1        12.5  \n",
       "2  subgroup       1        Food         Food     3.1    25.2        14.9  \n",
       "3  subgroup       1        Food         Food     7.4    60.2        35.7  \n",
       "4  subgroup       1        Food         Food     1.7    13.8         8.2  "
      ]
     },
     "execution_count": 2,
     "metadata": {},
     "output_type": "execute_result"
    }
   ],
   "source": [
    "costprice.head()"
   ]
  },
  {
   "cell_type": "code",
   "execution_count": 3,
   "metadata": {},
   "outputs": [
    {
     "data": {
      "text/html": [
       "<div>\n",
       "<style scoped>\n",
       "    .dataframe tbody tr th:only-of-type {\n",
       "        vertical-align: middle;\n",
       "    }\n",
       "\n",
       "    .dataframe tbody tr th {\n",
       "        vertical-align: top;\n",
       "    }\n",
       "\n",
       "    .dataframe thead th {\n",
       "        text-align: right;\n",
       "    }\n",
       "</style>\n",
       "<table border=\"1\" class=\"dataframe\">\n",
       "  <thead>\n",
       "    <tr style=\"text-align: right;\">\n",
       "      <th></th>\n",
       "      <th>hlpi_name</th>\n",
       "      <th>year</th>\n",
       "      <th>hlpi</th>\n",
       "      <th>nzhec</th>\n",
       "      <th>nzhec_name</th>\n",
       "      <th>nzhec_short</th>\n",
       "      <th>level</th>\n",
       "      <th>nzhec1</th>\n",
       "      <th>nzhec1_name</th>\n",
       "      <th>nzhec1_short</th>\n",
       "      <th>weight</th>\n",
       "      <th>exp_pw</th>\n",
       "      <th>eqv_exp_pw</th>\n",
       "    </tr>\n",
       "  </thead>\n",
       "  <tbody>\n",
       "    <tr>\n",
       "      <th>4741</th>\n",
       "      <td>Superannuitant</td>\n",
       "      <td>2020</td>\n",
       "      <td>super</td>\n",
       "      <td>11.4</td>\n",
       "      <td>Insurance</td>\n",
       "      <td>Insurance</td>\n",
       "      <td>subgroup</td>\n",
       "      <td>11</td>\n",
       "      <td>Miscellaneous goods and services</td>\n",
       "      <td>Miscellaneous</td>\n",
       "      <td>8.6</td>\n",
       "      <td>53.9</td>\n",
       "      <td>42.1</td>\n",
       "    </tr>\n",
       "    <tr>\n",
       "      <th>4742</th>\n",
       "      <td>Superannuitant</td>\n",
       "      <td>2020</td>\n",
       "      <td>super</td>\n",
       "      <td>11.5</td>\n",
       "      <td>Credit services</td>\n",
       "      <td>Credit services</td>\n",
       "      <td>subgroup</td>\n",
       "      <td>11</td>\n",
       "      <td>Miscellaneous goods and services</td>\n",
       "      <td>Miscellaneous</td>\n",
       "      <td>0.2</td>\n",
       "      <td>1.1</td>\n",
       "      <td>0.8</td>\n",
       "    </tr>\n",
       "    <tr>\n",
       "      <th>4743</th>\n",
       "      <td>Superannuitant</td>\n",
       "      <td>2020</td>\n",
       "      <td>super</td>\n",
       "      <td>11.6</td>\n",
       "      <td>Other miscellaneous services</td>\n",
       "      <td>Miscellaneous services</td>\n",
       "      <td>subgroup</td>\n",
       "      <td>11</td>\n",
       "      <td>Miscellaneous goods and services</td>\n",
       "      <td>Miscellaneous</td>\n",
       "      <td>0.7</td>\n",
       "      <td>4.4</td>\n",
       "      <td>3.4</td>\n",
       "    </tr>\n",
       "    <tr>\n",
       "      <th>4744</th>\n",
       "      <td>Superannuitant</td>\n",
       "      <td>2020</td>\n",
       "      <td>super</td>\n",
       "      <td>13.0</td>\n",
       "      <td>Other expenditure</td>\n",
       "      <td>Interest</td>\n",
       "      <td>group</td>\n",
       "      <td>13</td>\n",
       "      <td>Other expenditure</td>\n",
       "      <td>Interest</td>\n",
       "      <td>1.3</td>\n",
       "      <td>8.4</td>\n",
       "      <td>6.5</td>\n",
       "    </tr>\n",
       "    <tr>\n",
       "      <th>4745</th>\n",
       "      <td>Superannuitant</td>\n",
       "      <td>2020</td>\n",
       "      <td>super</td>\n",
       "      <td>13.1</td>\n",
       "      <td>Interest payments</td>\n",
       "      <td>Interest</td>\n",
       "      <td>subgroup</td>\n",
       "      <td>13</td>\n",
       "      <td>Other expenditure</td>\n",
       "      <td>Interest</td>\n",
       "      <td>1.3</td>\n",
       "      <td>8.4</td>\n",
       "      <td>6.5</td>\n",
       "    </tr>\n",
       "  </tbody>\n",
       "</table>\n",
       "</div>"
      ],
      "text/plain": [
       "           hlpi_name  year   hlpi  nzhec                    nzhec_name  \\\n",
       "4741  Superannuitant  2020  super   11.4                     Insurance   \n",
       "4742  Superannuitant  2020  super   11.5               Credit services   \n",
       "4743  Superannuitant  2020  super   11.6  Other miscellaneous services   \n",
       "4744  Superannuitant  2020  super   13.0             Other expenditure   \n",
       "4745  Superannuitant  2020  super   13.1             Interest payments   \n",
       "\n",
       "                 nzhec_short     level  nzhec1  \\\n",
       "4741               Insurance  subgroup      11   \n",
       "4742         Credit services  subgroup      11   \n",
       "4743  Miscellaneous services  subgroup      11   \n",
       "4744                Interest     group      13   \n",
       "4745                Interest  subgroup      13   \n",
       "\n",
       "                           nzhec1_name   nzhec1_short  weight  exp_pw  \\\n",
       "4741  Miscellaneous goods and services  Miscellaneous     8.6    53.9   \n",
       "4742  Miscellaneous goods and services  Miscellaneous     0.2     1.1   \n",
       "4743  Miscellaneous goods and services  Miscellaneous     0.7     4.4   \n",
       "4744                 Other expenditure       Interest     1.3     8.4   \n",
       "4745                 Other expenditure       Interest     1.3     8.4   \n",
       "\n",
       "      eqv_exp_pw  \n",
       "4741        42.1  \n",
       "4742         0.8  \n",
       "4743         3.4  \n",
       "4744         6.5  \n",
       "4745         6.5  "
      ]
     },
     "execution_count": 3,
     "metadata": {},
     "output_type": "execute_result"
    }
   ],
   "source": [
    "costprice.tail()"
   ]
  },
  {
   "cell_type": "code",
   "execution_count": 4,
   "metadata": {},
   "outputs": [
    {
     "name": "stdout",
     "output_type": "stream",
     "text": [
      "<class 'pandas.core.frame.DataFrame'>\n",
      "RangeIndex: 4746 entries, 0 to 4745\n",
      "Data columns (total 13 columns):\n",
      " #   Column        Non-Null Count  Dtype  \n",
      "---  ------        --------------  -----  \n",
      " 0   hlpi_name     4746 non-null   object \n",
      " 1   year          4746 non-null   int64  \n",
      " 2   hlpi          4746 non-null   object \n",
      " 3   nzhec         4746 non-null   float64\n",
      " 4   nzhec_name    4746 non-null   object \n",
      " 5   nzhec_short   4746 non-null   object \n",
      " 6   level         4746 non-null   object \n",
      " 7   nzhec1        4746 non-null   int64  \n",
      " 8   nzhec1_name   4746 non-null   object \n",
      " 9   nzhec1_short  4746 non-null   object \n",
      " 10  weight        4746 non-null   float64\n",
      " 11  exp_pw        4746 non-null   float64\n",
      " 12  eqv_exp_pw    4746 non-null   float64\n",
      "dtypes: float64(4), int64(2), object(7)\n",
      "memory usage: 482.1+ KB\n"
     ]
    }
   ],
   "source": [
    "costprice.info()"
   ]
  },
  {
   "cell_type": "code",
   "execution_count": 5,
   "metadata": {},
   "outputs": [
    {
     "data": {
      "text/plain": [
       "year          2014.613148\n",
       "nzhec            6.765487\n",
       "nzhec1           6.539823\n",
       "weight           3.540539\n",
       "exp_pw          33.851327\n",
       "eqv_exp_pw      20.251917\n",
       "dtype: float64"
      ]
     },
     "execution_count": 5,
     "metadata": {},
     "output_type": "execute_result"
    }
   ],
   "source": [
    "costprice.mean()"
   ]
  },
  {
   "cell_type": "code",
   "execution_count": 6,
   "metadata": {},
   "outputs": [
    {
     "data": {
      "text/html": [
       "<div>\n",
       "<style scoped>\n",
       "    .dataframe tbody tr th:only-of-type {\n",
       "        vertical-align: middle;\n",
       "    }\n",
       "\n",
       "    .dataframe tbody tr th {\n",
       "        vertical-align: top;\n",
       "    }\n",
       "\n",
       "    .dataframe thead th {\n",
       "        text-align: right;\n",
       "    }\n",
       "</style>\n",
       "<table border=\"1\" class=\"dataframe\">\n",
       "  <thead>\n",
       "    <tr style=\"text-align: right;\">\n",
       "      <th></th>\n",
       "      <th>year</th>\n",
       "      <th>nzhec</th>\n",
       "      <th>nzhec1</th>\n",
       "      <th>weight</th>\n",
       "      <th>exp_pw</th>\n",
       "      <th>eqv_exp_pw</th>\n",
       "    </tr>\n",
       "  </thead>\n",
       "  <tbody>\n",
       "    <tr>\n",
       "      <th>count</th>\n",
       "      <td>4746.000000</td>\n",
       "      <td>4746.000000</td>\n",
       "      <td>4746.000000</td>\n",
       "      <td>4746.000000</td>\n",
       "      <td>4746.000000</td>\n",
       "      <td>4746.000000</td>\n",
       "    </tr>\n",
       "    <tr>\n",
       "      <th>mean</th>\n",
       "      <td>2014.613148</td>\n",
       "      <td>6.765487</td>\n",
       "      <td>6.539823</td>\n",
       "      <td>3.540539</td>\n",
       "      <td>33.851327</td>\n",
       "      <td>20.251917</td>\n",
       "    </tr>\n",
       "    <tr>\n",
       "      <th>std</th>\n",
       "      <td>4.130376</td>\n",
       "      <td>3.411216</td>\n",
       "      <td>3.394875</td>\n",
       "      <td>4.812871</td>\n",
       "      <td>48.230825</td>\n",
       "      <td>28.381301</td>\n",
       "    </tr>\n",
       "    <tr>\n",
       "      <th>min</th>\n",
       "      <td>2008.000000</td>\n",
       "      <td>1.000000</td>\n",
       "      <td>1.000000</td>\n",
       "      <td>0.000000</td>\n",
       "      <td>0.000000</td>\n",
       "      <td>0.000000</td>\n",
       "    </tr>\n",
       "    <tr>\n",
       "      <th>25%</th>\n",
       "      <td>2011.000000</td>\n",
       "      <td>4.300000</td>\n",
       "      <td>4.000000</td>\n",
       "      <td>0.600000</td>\n",
       "      <td>5.100000</td>\n",
       "      <td>3.100000</td>\n",
       "    </tr>\n",
       "    <tr>\n",
       "      <th>50%</th>\n",
       "      <td>2014.000000</td>\n",
       "      <td>7.000000</td>\n",
       "      <td>7.000000</td>\n",
       "      <td>2.100000</td>\n",
       "      <td>16.400000</td>\n",
       "      <td>10.050000</td>\n",
       "    </tr>\n",
       "    <tr>\n",
       "      <th>75%</th>\n",
       "      <td>2018.000000</td>\n",
       "      <td>9.600000</td>\n",
       "      <td>9.000000</td>\n",
       "      <td>4.200000</td>\n",
       "      <td>39.975000</td>\n",
       "      <td>24.375000</td>\n",
       "    </tr>\n",
       "    <tr>\n",
       "      <th>max</th>\n",
       "      <td>2020.000000</td>\n",
       "      <td>13.100000</td>\n",
       "      <td>13.000000</td>\n",
       "      <td>43.900000</td>\n",
       "      <td>383.300000</td>\n",
       "      <td>223.600000</td>\n",
       "    </tr>\n",
       "  </tbody>\n",
       "</table>\n",
       "</div>"
      ],
      "text/plain": [
       "              year        nzhec       nzhec1       weight       exp_pw  \\\n",
       "count  4746.000000  4746.000000  4746.000000  4746.000000  4746.000000   \n",
       "mean   2014.613148     6.765487     6.539823     3.540539    33.851327   \n",
       "std       4.130376     3.411216     3.394875     4.812871    48.230825   \n",
       "min    2008.000000     1.000000     1.000000     0.000000     0.000000   \n",
       "25%    2011.000000     4.300000     4.000000     0.600000     5.100000   \n",
       "50%    2014.000000     7.000000     7.000000     2.100000    16.400000   \n",
       "75%    2018.000000     9.600000     9.000000     4.200000    39.975000   \n",
       "max    2020.000000    13.100000    13.000000    43.900000   383.300000   \n",
       "\n",
       "        eqv_exp_pw  \n",
       "count  4746.000000  \n",
       "mean     20.251917  \n",
       "std      28.381301  \n",
       "min       0.000000  \n",
       "25%       3.100000  \n",
       "50%      10.050000  \n",
       "75%      24.375000  \n",
       "max     223.600000  "
      ]
     },
     "execution_count": 6,
     "metadata": {},
     "output_type": "execute_result"
    }
   ],
   "source": [
    "costprice.describe()"
   ]
  },
  {
   "cell_type": "code",
   "execution_count": 7,
   "metadata": {},
   "outputs": [
    {
     "data": {
      "text/plain": [
       "hlpi_name       Superannuitant\n",
       "year                      2020\n",
       "hlpi                     super\n",
       "nzhec                     13.1\n",
       "nzhec_name           Transport\n",
       "nzhec_short           Vehicles\n",
       "level                 subgroup\n",
       "nzhec1                      13\n",
       "nzhec1_name          Transport\n",
       "nzhec1_short         Transport\n",
       "weight                    43.9\n",
       "exp_pw                   383.3\n",
       "eqv_exp_pw               223.6\n",
       "dtype: object"
      ]
     },
     "execution_count": 7,
     "metadata": {},
     "output_type": "execute_result"
    }
   ],
   "source": [
    "costprice.max()"
   ]
  },
  {
   "cell_type": "code",
   "execution_count": 8,
   "metadata": {},
   "outputs": [
    {
     "data": {
      "text/plain": [
       "hlpi_name                        All households\n",
       "year                                       2008\n",
       "hlpi                                      allhh\n",
       "nzhec                                       1.0\n",
       "nzhec_name               Accommodation services\n",
       "nzhec_short                        Accomodation\n",
       "level                                     group\n",
       "nzhec1                                        1\n",
       "nzhec1_name     Alcoholic beverages and tobacco\n",
       "nzhec1_short                Alcohol and tobacco\n",
       "weight                                      0.0\n",
       "exp_pw                                      0.0\n",
       "eqv_exp_pw                                  0.0\n",
       "dtype: object"
      ]
     },
     "execution_count": 8,
     "metadata": {},
     "output_type": "execute_result"
    }
   ],
   "source": [
    "costprice.min()"
   ]
  },
  {
   "cell_type": "code",
   "execution_count": 9,
   "metadata": {},
   "outputs": [
    {
     "data": {
      "text/plain": [
       "year          2014.613148\n",
       "nzhec            6.765487\n",
       "nzhec1           6.539823\n",
       "weight           3.540539\n",
       "exp_pw          33.851327\n",
       "eqv_exp_pw      20.251917\n",
       "dtype: float64"
      ]
     },
     "execution_count": 9,
     "metadata": {},
     "output_type": "execute_result"
    }
   ],
   "source": [
    "costprice.mean()"
   ]
  },
  {
   "cell_type": "code",
   "execution_count": 10,
   "metadata": {},
   "outputs": [
    {
     "data": {
      "text/plain": [
       "year           4.130376\n",
       "nzhec          3.411216\n",
       "nzhec1         3.394875\n",
       "weight         4.812871\n",
       "exp_pw        48.230825\n",
       "eqv_exp_pw    28.381301\n",
       "dtype: float64"
      ]
     },
     "execution_count": 10,
     "metadata": {},
     "output_type": "execute_result"
    }
   ],
   "source": [
    "costprice.std()"
   ]
  },
  {
   "cell_type": "code",
   "execution_count": 12,
   "metadata": {},
   "outputs": [
    {
     "data": {
      "text/plain": [
       "<AxesSubplot:>"
      ]
     },
     "execution_count": 12,
     "metadata": {},
     "output_type": "execute_result"
    },
    {
     "data": {
      "image/png": "[encoded data removed]",
      "text/plain": [
       "<Figure size 432x288 with 1 Axes>"
      ]
     },
     "metadata": {
      "needs_background": "light"
     },
     "output_type": "display_data"
    }
   ],
   "source": [
    "costprice.drop(\"year\",axis=1).plot()"
   ]
  },
  {
   "cell_type": "code",
   "execution_count": 13,
   "metadata": {},
   "outputs": [
    {
     "data": {
      "text/plain": [
       "<AxesSubplot:>"
      ]
     },
     "execution_count": 13,
     "metadata": {},
     "output_type": "execute_result"
    },
    {
     "data": {
      "image/png": "[encoded data removed]",
      "text/plain": [
       "<Figure size 432x288 with 1 Axes>"
      ]
     },
     "metadata": {
      "needs_background": "light"
     },
     "output_type": "display_data"
    }
   ],
   "source": [
    "costprice.drop(\"weight\",axis=1).plot()"
   ]
  },
  {
   "cell_type": "code",
   "execution_count": 20,
   "metadata": {},
   "outputs": [
    {
     "data": {
      "text/plain": [
       "<AxesSubplot:>"
      ]
     },
     "execution_count": 20,
     "metadata": {},
     "output_type": "execute_result"
    },
    {
     "data": {
      "image/png": "[encoded data removed]",
      "text/plain": [
       "<Figure size 432x288 with 1 Axes>"
      ]
     },
     "metadata": {
      "needs_background": "light"
     },
     "output_type": "display_data"
    }
   ],
   "source": [
    "costprice.drop(\"nzhec1\",axis=1).plot()"
   ]
  },
  {
   "cell_type": "code",
   "execution_count": 22,
   "metadata": {},
   "outputs": [
    {
     "data": {
      "text/plain": [
       "<AxesSubplot:>"
      ]
     },
     "execution_count": 22,
     "metadata": {},
     "output_type": "execute_result"
    },
    {
     "data": {
      "image/png": "[encoded data removed]",
      "text/plain": [
       "<Figure size 432x288 with 1 Axes>"
      ]
     },
     "metadata": {
      "needs_background": "light"
     },
     "output_type": "display_data"
    }
   ],
   "source": [
    "costprice.drop(\"nzhec\",axis=1).plot()"
   ]
  },
  {
   "cell_type": "code",
   "execution_count": 17,
   "metadata": {},
   "outputs": [
    {
     "data": {
      "text/plain": [
       "array([[<AxesSubplot:title={'center':'year'}>]], dtype=object)"
      ]
     },
     "execution_count": 17,
     "metadata": {},
     "output_type": "execute_result"
    },
    {
     "data": {
      "image/png": "[encoded data removed]",
      "text/plain": [
       "<Figure size 432x288 with 1 Axes>"
      ]
     },
     "metadata": {
      "needs_background": "light"
     },
     "output_type": "display_data"
    }
   ],
   "source": [
    "costprice.hist(column=\"year\")"
   ]
  },
  {
   "cell_type": "code",
   "execution_count": 18,
   "metadata": {},
   "outputs": [
    {
     "data": {
      "text/plain": [
       "array([[<AxesSubplot:title={'center':'weight'}>]], dtype=object)"
      ]
     },
     "execution_count": 18,
     "metadata": {},
     "output_type": "execute_result"
    },
    {
     "data": {
      "image/png": "[encoded data removed]",
      "text/plain": [
       "<Figure size 432x288 with 1 Axes>"
      ]
     },
     "metadata": {
      "needs_background": "light"
     },
     "output_type": "display_data"
    }
   ],
   "source": [
    "costprice.hist(column=\"weight\")"
   ]
  },
  {
   "cell_type": "code",
   "execution_count": 21,
   "metadata": {},
   "outputs": [
    {
     "data": {
      "text/plain": [
       "array([[<AxesSubplot:title={'center':'nzhec1'}>]], dtype=object)"
      ]
     },
     "execution_count": 21,
     "metadata": {},
     "output_type": "execute_result"
    },
    {
     "data": {
      "image/png": "[encoded data removed]",
      "text/plain": [
       "<Figure size 432x288 with 1 Axes>"
      ]
     },
     "metadata": {
      "needs_background": "light"
     },
     "output_type": "display_data"
    }
   ],
   "source": [
    "costprice.hist(column=\"nzhec1\")"
   ]
  },
  {
   "cell_type": "code",
   "execution_count": 23,
   "metadata": {},
   "outputs": [
    {
     "data": {
      "text/plain": [
       "array([[<AxesSubplot:title={'center':'nzhec'}>]], dtype=object)"
      ]
     },
     "execution_count": 23,
     "metadata": {},
     "output_type": "execute_result"
    },
    {
     "data": {
      "image/png": "[encoded data removed]",
      "text/plain": [
       "<Figure size 432x288 with 1 Axes>"
      ]
     },
     "metadata": {
      "needs_background": "light"
     },
     "output_type": "display_data"
    }
   ],
   "source": [
    "costprice.hist(column=\"nzhec\")"
   ]
  },
  {
   "cell_type": "code",
   "execution_count": null,
   "metadata": {},
   "outputs": [],
   "source": []
  }
 ],
 "metadata": {
  "kernelspec": {
   "display_name": "Python 3",
   "language": "python",
   "name": "python3"
  },
  "language_info": {
   "codemirror_mode": {
    "name": "ipython",
    "version": 3
   },
   "file_extension": ".py",
   "mimetype": "text/x-python",
   "name": "python",
   "nbconvert_exporter": "python",
   "pygments_lexer": "ipython3",
   "version": "3.7.10"
  }
 },
 "nbformat": 4,
 "nbformat_minor": 4
}
