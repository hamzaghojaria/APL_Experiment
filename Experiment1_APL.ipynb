{
 "cells": [
  {
   "cell_type": "markdown",
   "metadata": {},
   "source": [
    "# Python Basics - Experiment 1- 1st Semester- Feb 2021\n",
    "\n",
    "\n",
    "Aim – Write a menu-Driven text Applications to solve five problems as a menu-driven textbased application. It presents the user with a set of choices"
   ]
  },
  {
   "cell_type": "markdown",
   "metadata": {},
   "source": [
    "(1) sum of input numbers, (2) average of input numbers, (3) mean of input numbers, (4) median of input\n",
    "numbers, (2) mode of input numbers and (X) Quit."
   ]
  },
  {
   "cell_type": "code",
   "execution_count": 4,
   "metadata": {},
   "outputs": [
    {
     "name": "stdout",
     "output_type": "stream",
     "text": [
      "Welcome to number operations\n",
      "1.Sum input list\n",
      "2.Average input list\n",
      "3.Mean input list\n",
      "4.Median input list\n",
      "5.Mode input list\n",
      "6.Exit\n",
      "Enter number of elements : 2\n",
      "Enter 0 input:1\n",
      "Enter 1 input:2\n",
      "input a choice : 5\n"
     ]
    },
    {
     "ename": "NameError",
     "evalue": "name 'StatisticsError' is not defined",
     "output_type": "error",
     "traceback": [
      "\u001b[1;31m---------------------------------------------------------------------------\u001b[0m",
      "\u001b[1;31mStatisticsError\u001b[0m                           Traceback (most recent call last)",
      "\u001b[1;32m<ipython-input-4-a346ad4fb9af>\u001b[0m in \u001b[0;36mmode\u001b[1;34m()\u001b[0m\n\u001b[0;32m     20\u001b[0m     \u001b[1;32mtry\u001b[0m\u001b[1;33m:\u001b[0m\u001b[1;33m\u001b[0m\u001b[1;33m\u001b[0m\u001b[0m\n\u001b[1;32m---> 21\u001b[1;33m         \u001b[0mx\u001b[0m \u001b[1;33m=\u001b[0m \u001b[0mstatistics\u001b[0m\u001b[1;33m.\u001b[0m\u001b[0mmode\u001b[0m\u001b[1;33m(\u001b[0m\u001b[0msum_lst\u001b[0m\u001b[1;33m)\u001b[0m\u001b[1;33m\u001b[0m\u001b[1;33m\u001b[0m\u001b[0m\n\u001b[0m\u001b[0;32m     22\u001b[0m         \u001b[0mprint\u001b[0m\u001b[1;33m(\u001b[0m\u001b[1;34m\"Mode is :\"\u001b[0m\u001b[1;33m,\u001b[0m \u001b[0mx\u001b[0m\u001b[1;33m)\u001b[0m\u001b[1;33m\u001b[0m\u001b[1;33m\u001b[0m\u001b[0m\n",
      "\u001b[1;32m~\\Anaconda3\\lib\\statistics.py\u001b[0m in \u001b[0;36mmode\u001b[1;34m(data)\u001b[0m\n\u001b[0;32m    505\u001b[0m         raise StatisticsError(\n\u001b[1;32m--> 506\u001b[1;33m                 \u001b[1;34m'no unique mode; found %d equally common values'\u001b[0m \u001b[1;33m%\u001b[0m \u001b[0mlen\u001b[0m\u001b[1;33m(\u001b[0m\u001b[0mtable\u001b[0m\u001b[1;33m)\u001b[0m\u001b[1;33m\u001b[0m\u001b[1;33m\u001b[0m\u001b[0m\n\u001b[0m\u001b[0;32m    507\u001b[0m                 )\n",
      "\u001b[1;31mStatisticsError\u001b[0m: no unique mode; found 2 equally common values",
      "\nDuring handling of the above exception, another exception occurred:\n",
      "\u001b[1;31mNameError\u001b[0m                                 Traceback (most recent call last)",
      "\u001b[1;32m<ipython-input-4-a346ad4fb9af>\u001b[0m in \u001b[0;36m<module>\u001b[1;34m\u001b[0m\n\u001b[0;32m     52\u001b[0m     \u001b[0mmedian\u001b[0m\u001b[1;33m(\u001b[0m\u001b[1;33m)\u001b[0m\u001b[1;33m\u001b[0m\u001b[1;33m\u001b[0m\u001b[0m\n\u001b[0;32m     53\u001b[0m \u001b[1;32melif\u001b[0m \u001b[0minp\u001b[0m \u001b[1;33m==\u001b[0m \u001b[1;36m5\u001b[0m\u001b[1;33m:\u001b[0m\u001b[1;33m\u001b[0m\u001b[1;33m\u001b[0m\u001b[0m\n\u001b[1;32m---> 54\u001b[1;33m     \u001b[0mmode\u001b[0m\u001b[1;33m(\u001b[0m\u001b[1;33m)\u001b[0m\u001b[1;33m\u001b[0m\u001b[1;33m\u001b[0m\u001b[0m\n\u001b[0m\u001b[0;32m     55\u001b[0m \u001b[1;32melif\u001b[0m \u001b[0minp\u001b[0m \u001b[1;33m==\u001b[0m \u001b[1;36m6\u001b[0m\u001b[1;33m:\u001b[0m\u001b[1;33m\u001b[0m\u001b[1;33m\u001b[0m\u001b[0m\n\u001b[0;32m     56\u001b[0m     \u001b[0mexit\u001b[0m\u001b[1;33m(\u001b[0m\u001b[1;33m)\u001b[0m\u001b[1;33m\u001b[0m\u001b[1;33m\u001b[0m\u001b[0m\n",
      "\u001b[1;32m<ipython-input-4-a346ad4fb9af>\u001b[0m in \u001b[0;36mmode\u001b[1;34m()\u001b[0m\n\u001b[0;32m     21\u001b[0m         \u001b[0mx\u001b[0m \u001b[1;33m=\u001b[0m \u001b[0mstatistics\u001b[0m\u001b[1;33m.\u001b[0m\u001b[0mmode\u001b[0m\u001b[1;33m(\u001b[0m\u001b[0msum_lst\u001b[0m\u001b[1;33m)\u001b[0m\u001b[1;33m\u001b[0m\u001b[1;33m\u001b[0m\u001b[0m\n\u001b[0;32m     22\u001b[0m         \u001b[0mprint\u001b[0m\u001b[1;33m(\u001b[0m\u001b[1;34m\"Mode is :\"\u001b[0m\u001b[1;33m,\u001b[0m \u001b[0mx\u001b[0m\u001b[1;33m)\u001b[0m\u001b[1;33m\u001b[0m\u001b[1;33m\u001b[0m\u001b[0m\n\u001b[1;32m---> 23\u001b[1;33m     \u001b[1;32mexcept\u001b[0m \u001b[0mStatisticsError\u001b[0m\u001b[1;33m:\u001b[0m\u001b[1;33m\u001b[0m\u001b[1;33m\u001b[0m\u001b[0m\n\u001b[0m\u001b[0;32m     24\u001b[0m         \u001b[0mprint\u001b[0m\u001b[1;33m(\u001b[0m\u001b[1;34m\"There is no mode\"\u001b[0m\u001b[1;33m)\u001b[0m\u001b[1;33m\u001b[0m\u001b[1;33m\u001b[0m\u001b[0m\n\u001b[0;32m     25\u001b[0m \u001b[1;33m\u001b[0m\u001b[0m\n",
      "\u001b[1;31mNameError\u001b[0m: name 'StatisticsError' is not defined"
     ]
    }
   ],
   "source": [
    "import statistics\n",
    "import sys\n",
    "\n",
    "def sumup():\n",
    "    print('sum is', sum(sum_lst))\n",
    "\n",
    "def avggear():\n",
    "    avg = sum(sum_lst) / len(sum_lst)\n",
    "    print(\"Average is:\", avg)\n",
    "\n",
    "def mean():\n",
    "    x = statistics.mean(sum_lst)\n",
    "    print(\"Mean is :\", x)\n",
    "\n",
    "def median():\n",
    "    x = statistics.median(sum_lst)\n",
    "    print(\"Median is :\", x)\n",
    "\n",
    "def mode():\n",
    "    try:\n",
    "        x = statistics.mode(sum_lst)\n",
    "        print(\"Mode is :\", x)\n",
    "    except StatisticsError:\n",
    "        print(\"There is no mode\")\n",
    "\n",
    "def exit():\n",
    "    sys.exit\n",
    "\n",
    "\n",
    "print(\"Welcome to number operations\")\n",
    "print(\"1.Sum input list\")\n",
    "print(\"2.Average input list\")\n",
    "print(\"3.Mean input list\")\n",
    "print(\"4.Median input list\")\n",
    "print(\"5.Mode input list\")\n",
    "print(\"6.Exit\")\n",
    "\n",
    "sum_lst = []\n",
    "n = int(input(\"Enter number of elements : \"))\n",
    "for i in range(0, n):\n",
    "        ele = int(input(\"Enter %d input:\" % i))\n",
    "        sum_lst.append(ele)\n",
    "\n",
    "inp = int(input('input a choice : '))\n",
    "if inp == 1:\n",
    "    sumup()\n",
    "elif inp == 2:\n",
    "    avggear()\n",
    "elif inp == 3:\n",
    "    mean()\n",
    "elif inp == 4:\n",
    "    median()\n",
    "elif inp == 5:\n",
    "    mode()\n",
    "elif inp == 6:\n",
    "    exit()\n",
    "else:\n",
    "    print(\"Wrong Choice\")"
   ]
  },
  {
   "cell_type": "markdown",
   "metadata": {},
   "source": [
    "# Edmodo - file_io_exercise\n",
    "## 2. Reading first word from each line of a file\n",
    "Implement `find_first_words` function which takes an input file path as argument. The function should find the first word of each line in the file and return these words as a list. If a line is empty, the returned list should contain an empty string for that line."
   ]
  },
  {
   "cell_type": "code",
   "execution_count": 2,
   "metadata": {
    "scrolled": true
   },
   "outputs": [],
   "source": [
    "import os\n",
    "DATA_DIR = r'C:\\Users\\Hamza'\n",
    "\n",
    "def find_first_words(file):\n",
    "    WordList=[]\n",
    "    with open(file,mode='r') as x:\n",
    "        for word in x:\n",
    "            word=word.strip()\n",
    "            WordList.append(word.split(\" \",1)[0])\n",
    "    return WordList"
   ]
  },
  {
   "cell_type": "code",
   "execution_count": 3,
   "metadata": {},
   "outputs": [],
   "source": [
    "in_file1 = os.path.join(DATA_DIR, 'simple_file.txt')"
   ]
  },
  {
   "cell_type": "code",
   "execution_count": 4,
   "metadata": {},
   "outputs": [
    {
     "data": {
      "text/plain": [
       "['First', 'Second', 'Third', 'And']"
      ]
     },
     "execution_count": 4,
     "metadata": {},
     "output_type": "execute_result"
    }
   ],
   "source": [
    "find_first_words(in_file1)"
   ]
  },
  {
   "cell_type": "code",
   "execution_count": 5,
   "metadata": {},
   "outputs": [],
   "source": [
    "in_file2 = os.path.join(DATA_DIR, 'simple_file_with_empty_lines1.txt')"
   ]
  },
  {
   "cell_type": "code",
   "execution_count": 6,
   "metadata": {},
   "outputs": [
    {
     "data": {
      "text/plain": [
       "['The', '', 'First', 'Funny', '', 'Then']"
      ]
     },
     "execution_count": 6,
     "metadata": {},
     "output_type": "execute_result"
    }
   ],
   "source": [
    "find_first_words(in_file2)"
   ]
  },
  {
   "cell_type": "code",
   "execution_count": 7,
   "metadata": {},
   "outputs": [],
   "source": [
    "in_file1 = os.path.join(DATA_DIR, 'simple_file.txt')\n",
    "in_file2 = os.path.join(DATA_DIR, 'simple_file_with_empty_lines1.txt')\n",
    "expected_file_1 = ['First', 'Second', 'Third', 'And']\n",
    "assert find_first_words(in_file1) == expected_file_1\n",
    "\n",
    "expected_file_2 = ['The', '', 'First', 'Funny', '', 'Then']\n",
    "assert find_first_words(in_file2) == expected_file_2"
   ]
  },
  {
   "cell_type": "markdown",
   "metadata": {},
   "source": [
    "## 1. Sum numbers listed in a file\n",
    "\n",
    "1) Fill ____ pieces of the code below. sum_numbers_in_file function takes a input file path as argument, reads the numbers listed in the input file and returns the sum of those numbers. You can assume that each line contains exactly one numeric value."
   ]
  },
  {
   "cell_type": "code",
   "execution_count": 2,
   "metadata": {},
   "outputs": [
    {
     "data": {
      "text/plain": [
       "True"
      ]
     },
     "execution_count": 2,
     "metadata": {},
     "output_type": "execute_result"
    }
   ],
   "source": [
    "import os\n",
    "DATA_DIR = r'C:\\Users\\Hamza'\n",
    "def sum_numbers_in_file(input_file):\n",
    "    sum_ = 0  # A common way to use variable names that collide with built-in/keyword words is to add underscore\n",
    "    with open(input_file, mode='r') as x:\n",
    "        for line in x:\n",
    "            x = line.strip()  # Remove potential white space \n",
    "            sum_ += float(line)\n",
    "            \n",
    "    return sum_\n",
    "    \n",
    "in_file = os.path.join(DATA_DIR, 'numbers.txt')\n",
    "assert sum_numbers_in_file(in_file) == 189.5\n",
    "sum_numbers_in_file(in_file) == 189.5"
   ]
  },
  {
   "cell_type": "markdown",
   "metadata": {},
   "source": [
    "# Edmodo Numbers_exercise\n",
    "## 1. Creating formulas\n",
    "Write the following mathematical formula in Python:\n",
    "\n",
    "\\begin{align}\n",
    " result = 6a^3 - \\frac{8b^2 }{4c} + 11\n",
    "\\end{align}\n"
   ]
  },
  {
   "cell_type": "code",
   "execution_count": 52,
   "metadata": {},
   "outputs": [
    {
     "name": "stdout",
     "output_type": "stream",
     "text": [
      "True\n"
     ]
    }
   ],
   "source": [
    "a = 2\n",
    "b = 3\n",
    "c = 2\n",
    "result = (6*(a)**3) - (8*((b)**2))/(4*c) + 11\n",
    "if result == 50:\n",
    "    print(True)"
   ]
  },
  {
   "cell_type": "markdown",
   "metadata": {},
   "source": [
    "## 2. Floating point pitfalls\n",
    "Show that `0.1 + 0.2 == 0.3`"
   ]
  },
  {
   "cell_type": "code",
   "execution_count": 1,
   "metadata": {},
   "outputs": [
    {
     "name": "stdout",
     "output_type": "stream",
     "text": [
      "True\n"
     ]
    }
   ],
   "source": [
    "x=0.1\n",
    "y=0.2\n",
    "sum = x+y\n",
    "sum=round(sum,2)\n",
    "if sum == 0.3:\n",
    "    print(True)"
   ]
  },
  {
   "cell_type": "code",
   "execution_count": null,
   "metadata": {},
   "outputs": [],
   "source": []
  }
 ],
 "metadata": {
  "celltoolbar": "Raw Cell Format",
  "kernelspec": {
   "display_name": "Python 3",
   "language": "python",
   "name": "python3"
  },
  "language_info": {
   "codemirror_mode": {
    "name": "ipython",
    "version": 3
   },
   "file_extension": ".py",
   "mimetype": "text/x-python",
   "name": "python",
   "nbconvert_exporter": "python",
   "pygments_lexer": "ipython3",
   "version": "3.7.10"
  }
 },
 "nbformat": 4,
 "nbformat_minor": 4
}
