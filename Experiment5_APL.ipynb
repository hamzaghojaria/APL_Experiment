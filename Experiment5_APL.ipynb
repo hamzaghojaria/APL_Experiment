{
 "cells": [
  {
   "cell_type": "markdown",
   "id": "horizontal-stage",
   "metadata": {},
   "source": [
    "# OOP Concepts- Experiment 5 - 1st Semester - March 2021"
   ]
  },
  {
   "cell_type": "markdown",
   "id": "selected-membrane",
   "metadata": {},
   "source": [
    "Aim - Write a python program to define a class, Point, that holds an (x, y) coordinate. The\n",
    "class is in file Shape.py, and now add the following operations the class where p, q, r are\n",
    "Point class and n is any number: i) p = q + r, ii) p += q , ii) p = q - r, iii) p -= q, iv) p = q * n, v)\n",
    "p *= n, vi) p = q / n , vii) p /= n"
   ]
  },
  {
   "cell_type": "markdown",
   "id": "quality-lobby",
   "metadata": {},
   "source": [
    "1) p = q + r"
   ]
  },
  {
   "cell_type": "code",
   "execution_count": 41,
   "id": "right-insulation",
   "metadata": {},
   "outputs": [
    {
     "data": {
      "text/plain": [
       "4"
      ]
     },
     "execution_count": 41,
     "metadata": {},
     "output_type": "execute_result"
    }
   ],
   "source": [
    "class Point:\n",
    "    def __init__(self, p, q, r):\n",
    "        self.p = p\n",
    "        self.q = q\n",
    "        self.r = r\n",
    "        \n",
    "    def add(self):\n",
    "        self.p =self.q + self.r\n",
    "        return self.p\n",
    "    \n",
    "p = Point(3, 4, 0)\n",
    "p.add()\n"
   ]
  },
  {
   "cell_type": "markdown",
   "id": "desperate-respondent",
   "metadata": {},
   "source": [
    "2) p += q "
   ]
  },
  {
   "cell_type": "code",
   "execution_count": 35,
   "id": "cutting-advisory",
   "metadata": {},
   "outputs": [
    {
     "data": {
      "text/plain": [
       "17"
      ]
     },
     "execution_count": 35,
     "metadata": {},
     "output_type": "execute_result"
    }
   ],
   "source": [
    "class Point:\n",
    "    def __init__(self, p, q):\n",
    "        self.p = p\n",
    "        self.q = q\n",
    "       \n",
    "    def add(self):\n",
    "        self.p =self.p + self.q\n",
    "        return self.p\n",
    "    \n",
    "p = Point(13, 4)\n",
    "p.add()"
   ]
  },
  {
   "cell_type": "markdown",
   "id": "vocal-plastic",
   "metadata": {},
   "source": [
    "3) p = q - r"
   ]
  },
  {
   "cell_type": "code",
   "execution_count": 40,
   "id": "commercial-pizza",
   "metadata": {},
   "outputs": [
    {
     "data": {
      "text/plain": [
       "4"
      ]
     },
     "execution_count": 40,
     "metadata": {},
     "output_type": "execute_result"
    }
   ],
   "source": [
    "class Point:\n",
    "    def __init__(self, p, q, r):\n",
    "        self.p = p\n",
    "        self.q = q\n",
    "        self.r = r\n",
    "        \n",
    "    def minus(self):\n",
    "        self.p =self.q - self.r\n",
    "        return self.p\n",
    "    \n",
    "p = Point(13, 4, 0)\n",
    "p.minus()\n"
   ]
  },
  {
   "cell_type": "markdown",
   "id": "external-dayton",
   "metadata": {},
   "source": [
    "4) p -= q,"
   ]
  },
  {
   "cell_type": "code",
   "execution_count": 38,
   "id": "personalized-rebound",
   "metadata": {},
   "outputs": [
    {
     "data": {
      "text/plain": [
       "9"
      ]
     },
     "execution_count": 38,
     "metadata": {},
     "output_type": "execute_result"
    }
   ],
   "source": [
    "class Point:\n",
    "    def __init__(self, p, q):\n",
    "        self.p = p\n",
    "        self.q = q\n",
    "       \n",
    "    def add(self):\n",
    "        self.p =self.p - self.q\n",
    "        return self.p\n",
    "    \n",
    "p = Point(13, 4)\n",
    "p.add()"
   ]
  },
  {
   "cell_type": "markdown",
   "id": "accepting-passing",
   "metadata": {},
   "source": [
    "5) p = q * n"
   ]
  },
  {
   "cell_type": "code",
   "execution_count": 39,
   "id": "published-theta",
   "metadata": {},
   "outputs": [
    {
     "data": {
      "text/plain": [
       "52"
      ]
     },
     "execution_count": 39,
     "metadata": {},
     "output_type": "execute_result"
    }
   ],
   "source": [
    "class Point:\n",
    "    def __init__(self, p, q, n):\n",
    "        self.p = p\n",
    "        self.q = q\n",
    "        self.n = n\n",
    "        \n",
    "    def mul(self):\n",
    "        self.p =self.q * self.n\n",
    "        return self.p\n",
    "    \n",
    "p = Point(0,13, 4)\n",
    "p.mul()"
   ]
  },
  {
   "cell_type": "markdown",
   "id": "advisory-driver",
   "metadata": {},
   "source": [
    "6) p *= n"
   ]
  },
  {
   "cell_type": "code",
   "execution_count": 43,
   "id": "regular-indianapolis",
   "metadata": {},
   "outputs": [
    {
     "data": {
      "text/plain": [
       "52"
      ]
     },
     "execution_count": 43,
     "metadata": {},
     "output_type": "execute_result"
    }
   ],
   "source": [
    "class Point:\n",
    "    def __init__(self, p, n):\n",
    "        self.p = p\n",
    "        self.n = n\n",
    "        \n",
    "    def mul(self):\n",
    "        self.p =self.p * self.n\n",
    "        return self.p\n",
    "    \n",
    "p = Point(13, 4)\n",
    "p.mul()"
   ]
  },
  {
   "cell_type": "markdown",
   "id": "heard-bishop",
   "metadata": {},
   "source": [
    "7) p = q / n "
   ]
  },
  {
   "cell_type": "code",
   "execution_count": 44,
   "id": "cellular-arthur",
   "metadata": {},
   "outputs": [
    {
     "data": {
      "text/plain": [
       "3.25"
      ]
     },
     "execution_count": 44,
     "metadata": {},
     "output_type": "execute_result"
    }
   ],
   "source": [
    "class Point:\n",
    "    def __init__(self, p, q, n):\n",
    "        self.p = p\n",
    "        self.q = q\n",
    "        self.n = n\n",
    "        \n",
    "    def mul(self):\n",
    "        self.p =self.q / self.n\n",
    "        return self.p\n",
    "    \n",
    "p = Point(0,13, 4)\n",
    "p.mul()"
   ]
  },
  {
   "cell_type": "markdown",
   "id": "surprised-story",
   "metadata": {},
   "source": [
    "8) p /= n"
   ]
  },
  {
   "cell_type": "code",
   "execution_count": 45,
   "id": "wooden-brighton",
   "metadata": {},
   "outputs": [
    {
     "data": {
      "text/plain": [
       "3.25"
      ]
     },
     "execution_count": 45,
     "metadata": {},
     "output_type": "execute_result"
    }
   ],
   "source": [
    "class Point:\n",
    "    def __init__(self, p, n):\n",
    "        self.p = p\n",
    "        self.n = n\n",
    "        \n",
    "    def mul(self):\n",
    "        self.p =self.p / self.n\n",
    "        return self.p\n",
    "    \n",
    "p = Point(13, 4)\n",
    "p.mul()"
   ]
  },
  {
   "cell_type": "code",
   "execution_count": null,
   "id": "decimal-shift",
   "metadata": {},
   "outputs": [],
   "source": []
  }
 ],
 "metadata": {
  "kernelspec": {
   "display_name": "Python 3",
   "language": "python",
   "name": "python3"
  },
  "language_info": {
   "codemirror_mode": {
    "name": "ipython",
    "version": 3
   },
   "file_extension": ".py",
   "mimetype": "text/x-python",
   "name": "python",
   "nbconvert_exporter": "python",
   "pygments_lexer": "ipython3",
   "version": "3.7.10"
  }
 },
 "nbformat": 4,
 "nbformat_minor": 5
}
