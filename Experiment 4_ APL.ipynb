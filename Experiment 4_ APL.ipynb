{
 "cells": [
  {
   "cell_type": "markdown",
   "metadata": {},
   "source": [
    "# Python Modules and Packages - Experiment 4 - 1st Semester - March 2021"
   ]
  },
  {
   "cell_type": "markdown",
   "metadata": {},
   "source": [
    "Aim - Write a python program that counts the lines and characters in a file (similar in spirit\n",
    "to part of what wc does on Unix). With your text editor, code a Python module called\n",
    "mymod.py that exports three top-level names:"
   ]
  },
  {
   "cell_type": "markdown",
   "metadata": {},
   "source": [
    "a) A countLines(name) function that reads an input file and counts the number of lines\n",
    "in it (hint: file.readlines does most of the work for you, and len does the rest, though you could count with for and file iterators to support massive files too)"
   ]
  },
  {
   "cell_type": "code",
   "execution_count": 16,
   "metadata": {},
   "outputs": [],
   "source": [
    "filename=\"simple_file.txt\""
   ]
  },
  {
   "cell_type": "code",
   "execution_count": 17,
   "metadata": {},
   "outputs": [
    {
     "name": "stdout",
     "output_type": "stream",
     "text": [
      "This is the number of lines in the file is:  4\n"
     ]
    }
   ],
   "source": [
    "def  countLines(filename):\n",
    "    file = open(filename,\"r\") \n",
    "    Counter = 0\n",
    "  \n",
    "    # Reading from file \n",
    "    Content = file.read() \n",
    "    CoList = Content.split(\"\\n\") \n",
    "  \n",
    "    for i in CoList: \n",
    "        if i: \n",
    "            Counter += 1\n",
    "          \n",
    "    print(\"This is the number of lines in the file is: \", Counter)\n",
    "\n",
    "\n",
    "countLines(filename)"
   ]
  },
  {
   "cell_type": "markdown",
   "metadata": {},
   "source": [
    "b) A countChars(name) function that reads an input file and counts the number of characters in it (hint: file.read returns a single string, which may be used in similar ways)."
   ]
  },
  {
   "cell_type": "code",
   "execution_count": 18,
   "metadata": {},
   "outputs": [
    {
     "name": "stdout",
     "output_type": "stream",
     "text": [
      "Number of characters in text file : 51\n"
     ]
    }
   ],
   "source": [
    "def CountChars(filename):\n",
    "    file = open(f1, \"r\")\n",
    "    data = file.read()\n",
    "    number_of_characters = len(data)\n",
    "    print('Number of characters in text file :', number_of_characters)\n",
    "\n",
    "CountChars(filename)"
   ]
  },
  {
   "cell_type": "markdown",
   "metadata": {},
   "source": [
    "A test(name) function that calls both counting functions with a given input\n",
    "filename. Such a filename generally might be passed in, hardcoded, input with the\n",
    "input built-in function."
   ]
  },
  {
   "cell_type": "code",
   "execution_count": 26,
   "metadata": {},
   "outputs": [
    {
     "name": "stdout",
     "output_type": "stream",
     "text": [
      "This is the number of lines in the file is:  4\n",
      "Number of characters in text file : 51\n"
     ]
    }
   ],
   "source": [
    "def AllFunc():\n",
    "    functions = [countLines(filename), CountChars(filename)]\n",
    "\n",
    "AllFunc()"
   ]
  },
  {
   "cell_type": "code",
   "execution_count": null,
   "metadata": {},
   "outputs": [],
   "source": []
  }
 ],
 "metadata": {
  "kernelspec": {
   "display_name": "Python 3",
   "language": "python",
   "name": "python3"
  },
  "language_info": {
   "codemirror_mode": {
    "name": "ipython",
    "version": 3
   },
   "file_extension": ".py",
   "mimetype": "text/x-python",
   "name": "python",
   "nbconvert_exporter": "python",
   "pygments_lexer": "ipython3",
   "version": "3.7.10"
  }
 },
 "nbformat": 4,
 "nbformat_minor": 4
}
