{
 "cells": [
  {
   "cell_type": "markdown",
   "id": "molecular-divide",
   "metadata": {},
   "source": [
    "# Regular Expressions - Experiment 7 - 1st Semester - April 2021"
   ]
  },
  {
   "cell_type": "markdown",
   "id": "simple-chemistry",
   "metadata": {},
   "source": [
    "Aim: Write a python program to recognize the simple calculator operations and then\n",
    "execute the same. The operations include addition, subtractions, multiplication, division,\n",
    "squaring number, square-root of number, and reciprocal of number. It also allows\n",
    "mathematical expressions of any of the above operations mentioned."
   ]
  },
  {
   "cell_type": "code",
   "execution_count": 10,
   "id": "musical-barbados",
   "metadata": {},
   "outputs": [
    {
     "name": "stdout",
     "output_type": "stream",
     "text": [
      "Select operation.\n",
      "1.Add\n",
      "2.Subtract\n",
      "3.Multiply\n",
      "4.Divide\n",
      "5.Squaring Of Number\n",
      "6.Square Root of Number\n",
      "7.Reciprocal of Number\n",
      "Enter choice(1/2/3/4/5/6/7): 7\n",
      "Enter first number: 5\n",
      "Enter second number: 4\n",
      "Reciprocal of  5.0 = 0.2\n"
     ]
    }
   ],
   "source": [
    "# Program make a simple calculator\n",
    "\n",
    "# This function adds two numbers\n",
    "def add(x, y):\n",
    "    return x + y\n",
    "\n",
    "# This function subtracts two numbers\n",
    "def subtract(x, y):\n",
    "    return x - y\n",
    "\n",
    "# This function multiplies two numbers\n",
    "def multiply(x, y):\n",
    "    return x * y\n",
    "\n",
    "# This function divides two numbers\n",
    "def divide(x, y):\n",
    "    return x / y\n",
    "\n",
    "#squaring of number\n",
    "def squaring (x):\n",
    "    return x*x\n",
    "\n",
    "#square root of number\n",
    "def square_root (x):\n",
    "    return x ** 0.5\n",
    "\n",
    "def reciprocal (x):\n",
    "    return 1/x\n",
    "\n",
    "print(\"Select operation.\")\n",
    "print(\"1.Add\")\n",
    "print(\"2.Subtract\")\n",
    "print(\"3.Multiply\")\n",
    "print(\"4.Divide\")\n",
    "print(\"5.Squaring Of Number\")\n",
    "print(\"6.Square Root of Number\")\n",
    "print(\"7.Reciprocal of Number\")\n",
    "\n",
    "while True:\n",
    "    # Take input from the user\n",
    "    choice = input(\"Enter choice(1/2/3/4/5/6/7): \")\n",
    "\n",
    "    # Check if choice is one of the four options\n",
    "    if choice in ('1', '2', '3', '4','5','6','7'):\n",
    "        num1 = float(input(\"Enter first number: \"))\n",
    "        num2 = float(input(\"Enter second number: \"))\n",
    "\n",
    "        if choice == '1':\n",
    "            print(num1, \"+\", num2, \"=\", add(num1, num2))\n",
    "\n",
    "        elif choice == '2':\n",
    "            print(num1, \"-\", num2, \"=\", subtract(num1, num2))\n",
    "\n",
    "        elif choice == '3':\n",
    "            print(num1, \"*\", num2, \"=\", multiply(num1, num2))\n",
    "\n",
    "        elif choice == '4':\n",
    "            print(num1, \"/\", num2, \"=\", divide(num1, num2))\n",
    "            \n",
    "        elif choice == '5':\n",
    "            print(num1, \"**\", num1, \"=\", squaring(num1))\n",
    "            \n",
    "        elif choice == '6':\n",
    "            print(\"Square root of \", num1, \"=\", square_root(num1))\n",
    "            \n",
    "        elif choice == '7':\n",
    "            print(\"Reciprocal of \", num1, \"=\", reciprocal(num1))\n",
    "            \n",
    "        break\n",
    "    else:\n",
    "        print(\"Invalid Input\")"
   ]
  },
  {
   "cell_type": "code",
   "execution_count": null,
   "id": "neutral-equivalent",
   "metadata": {},
   "outputs": [],
   "source": []
  },
  {
   "cell_type": "code",
   "execution_count": null,
   "id": "controversial-shareware",
   "metadata": {},
   "outputs": [],
   "source": []
  }
 ],
 "metadata": {
  "kernelspec": {
   "display_name": "Python 3",
   "language": "python",
   "name": "python3"
  },
  "language_info": {
   "codemirror_mode": {
    "name": "ipython",
    "version": 3
   },
   "file_extension": ".py",
   "mimetype": "text/x-python",
   "name": "python",
   "nbconvert_exporter": "python",
   "pygments_lexer": "ipython3",
   "version": "3.7.10"
  }
 },
 "nbformat": 4,
 "nbformat_minor": 5
}
